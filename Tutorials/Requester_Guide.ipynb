{
 "cells": [
  {
   "cell_type": "markdown",
   "id": "9c42822d",
   "metadata": {},
   "source": [
    "# Requester's Guide \n",
    "\n",
    "The current release of Ravenverse provides a collection of easy to use libraries that allow requesters to build mathematical algorithms or models and compute these operations by distributing them across multiple clients. This provides an increase in speed and efficiency when dealing with a large number of mathematical operations.\n",
    "\n",
    "This tutorial explains how to build a distributed graph as well as federated analytics graph that the requester can compile and execute via the nodes present on the Ravenverse network. "
   ]
  },
  {
   "cell_type": "markdown",
   "id": "0d4abf4d",
   "metadata": {},
   "source": [
    "### Installing Dependencies\n",
    "\n",
    "Ravenverse provides Requesters with a library called RavOp which contains a large number of mathematical operations on mathematical objects like scalars, vectors, matrices and tensors."
   ]
  },
  {
   "cell_type": "code",
   "execution_count": null,
   "id": "e9398c35",
   "metadata": {},
   "outputs": [],
   "source": [
    "!pip install ravop"
   ]
  },
  {
   "cell_type": "code",
   "execution_count": null,
   "id": "7bfe0490",
   "metadata": {},
   "outputs": [],
   "source": [
    "%env TOKEN=abcdefg\n",
    "%env RAVENVERSE_URL=http://0.0.0.0:8081\n",
    "%env RAVENVERSE_FTP_HOST=0.0.0.0\n",
    "%env RAVENVERSE_FTP_URL=0.0.0.0"
   ]
  },
  {
   "cell_type": "markdown",
   "id": "9fc6c8f9",
   "metadata": {},
   "source": [
    "### Initializing Ravop with Ravenverse Token\n",
    "\n",
    "The requester must connect to the Ravenverse using a unique token that they can generate by logging into Raven's Website using their MetaMask wallet credentials."
   ]
  },
  {
   "cell_type": "code",
   "execution_count": 2,
   "id": "416bc8f4",
   "metadata": {},
   "outputs": [
    {
     "name": "stderr",
     "output_type": "stream",
     "text": [
      "2023-03-22 13:20:55,208 [MainThread  ] [DEBUG]  Checking version of Ravop...\n",
      "2023-03-22 13:20:55,641 [MainThread  ] [DEBUG]  Please update Ravop to the latest version.\n",
      "2023-03-22 13:20:55,644 [MainThread  ] [DEBUG]  Initializing...\n",
      "2023-03-22 13:20:55,646 [MainThread  ] [DEBUG]  Creating FTP developer credentials...\n",
      "2023-03-22 13:21:09,116 [MainThread  ] [DEBUG]  FTP Upload Blocksize:409600\n",
      "2023-03-22 13:21:09,119 [MainThread  ] [DEBUG]  FTP User credentials:dev.server.ravenverse.ai 4596477436 RIB15J3C0M\n",
      "2023-03-22 13:21:09,305 [MainThread  ] [DEBUG]  Initialized Successfully!\n",
      "2023-03-22 13:21:09,421 [MainThread  ] [DEBUG]  No Currently Active Graph! \n"
     ]
    }
   ],
   "source": [
    "import ravop as R\n",
    "\n",
    "R.initialize(ravenverse_token='<TOKEN>')"
   ]
  },
  {
   "cell_type": "markdown",
   "id": "de786db9",
   "metadata": {},
   "source": [
    "## Distributed Computing\n",
    "\n",
    "Distributed Computing is the linking of various computing resources like PCs and smartphones to share and coordinate their processing power for a common computational requirement, such as the training of a large Machine Learning model. These resources or nodes communicate with a central server and in some cases with each other, such that each node receives some data and completes a subset of a task. These nodes can coordinate their computations to complete a large and complex computational requirement in a fast and efficient manner.\n",
    "\n",
    "The following walkthrough demonstrates how a requester should build a graph, compile it and then execute their graph to get the results."
   ]
  },
  {
   "cell_type": "markdown",
   "id": "1de63970",
   "metadata": {},
   "source": [
    "### Step 1 - Defining a Graph\n",
    "\n",
    "In the Ravenverse, each script compiled by a requester is treated as a collection of RavOP Operations called Graph. \n",
    "\n",
    "***Note:*** In the current release, the requester can execute only 1 graph with their unique token. Therefore, to clear any previous/existing graphs, the requester must use R.flush() method."
   ]
  },
  {
   "cell_type": "code",
   "execution_count": 3,
   "id": "eed5c9d8",
   "metadata": {},
   "outputs": [
    {
     "name": "stderr",
     "output_type": "stream",
     "text": [
      "2023-03-22 13:21:22,529 [MainThread  ] [DEBUG]  \n",
      "2023-03-22 13:21:22,530 [MainThread  ] [DEBUG]  {'message': 'Requester flushed'}\n"
     ]
    },
    {
     "data": {
      "text/plain": [
       "<ravop.core.Graph at 0x10629c040>"
      ]
     },
     "execution_count": 3,
     "metadata": {},
     "output_type": "execute_result"
    }
   ],
   "source": [
    "R.flush()\n",
    "\n",
    "R.Graph(name='test', algorithm='test_graph', approach='distributed')"
   ]
  },
  {
   "cell_type": "markdown",
   "id": "0802f620",
   "metadata": {},
   "source": [
    "The ```name``` and ```algorithm``` parameters can be set to any string. However, the ```approach``` needs to be set to either \"distributed\" or \"federated\"."
   ]
  },
  {
   "cell_type": "markdown",
   "id": "c6a1cbe0",
   "metadata": {},
   "source": [
    "### Step 2 - Creating Operations (Ops)\n",
    "\n",
    "The RavOp documentation can be found [here](https://ravenprotocol.gitbook.io/ravenverse/ravop). It has a detailed overview of the various Operations available. "
   ]
  },
  {
   "cell_type": "code",
   "execution_count": 4,
   "id": "f7c589ba",
   "metadata": {},
   "outputs": [],
   "source": [
    "a = R.t([1, 2, 3])\n",
    "b = R.t([4, 5, 6])\n",
    "c = a + b"
   ]
  },
  {
   "cell_type": "markdown",
   "id": "fa439e5d",
   "metadata": {},
   "source": [
    "### Step 3 - Making Ops Persist\n",
    "\n",
    "Persisting Ops are a special category of Ops that stay in the ravenverse once the graph gets executed. The requester must explicitly mention which ops they want to save in their code. It is a good idea to write the code such that persisting ops contain the relevant results (in this case, variable - ```c```).\n",
    "\n",
    "***Note:*** Make sure that the ```name``` parameter for each persisting Op is unique within a graph so that later it can be retrieved."
   ]
  },
  {
   "cell_type": "code",
   "execution_count": 5,
   "id": "fd01ac69",
   "metadata": {},
   "outputs": [
    {
     "name": "stderr",
     "output_type": "stream",
     "text": [
      "2023-03-22 13:21:36,359 [MainThread  ] [DEBUG]  \n",
      "2023-03-22 13:21:36,362 [MainThread  ] [DEBUG]  Persisting Op: c_output\n"
     ]
    }
   ],
   "source": [
    "c.persist_op(name='c_output')"
   ]
  },
  {
   "cell_type": "markdown",
   "id": "63622ec6",
   "metadata": {},
   "source": [
    "### Step 4 - Activate the Graph\n",
    "\n",
    "Once all Ops of the graph have been defined, the requester must activate their graph. This step completes the compilation procedure and makes the graph ready for execution. No more Ops can be added to the graph after this."
   ]
  },
  {
   "cell_type": "code",
   "execution_count": 6,
   "id": "6e967e4d",
   "metadata": {},
   "outputs": [
    {
     "name": "stderr",
     "output_type": "stream",
     "text": [
      "2023-03-22 13:21:42,252 [MainThread  ] [DEBUG]  {'message': 'Ops Persisted Successfully!'}\n",
      "2023-03-22 13:21:42,403 [MainThread  ] [DEBUG]  \n",
      "\n",
      "2023-03-22 13:21:42,406 [MainThread  ] [DEBUG]  Graph Compiled Successfully. Ready to Execute!\n",
      "2023-03-22 13:21:42,407 [MainThread  ] [DEBUG]  Cost: 0.5758 RAVEN TOKENS\n",
      "2023-03-22 13:21:42,408 [MainThread  ] [DEBUG]  Max Participants: 1\n"
     ]
    },
    {
     "data": {
      "text/plain": [
       "'Graph Compiled Successfully. Ready to Execute!'"
      ]
     },
     "execution_count": 6,
     "metadata": {},
     "output_type": "execute_result"
    }
   ],
   "source": [
    "R.activate()"
   ]
  },
  {
   "cell_type": "markdown",
   "id": "9cf4922f",
   "metadata": {},
   "source": [
    "This displays the cost and maximum number of allowable providers that can participate in this graph. "
   ]
  },
  {
   "cell_type": "markdown",
   "id": "faf84c7f",
   "metadata": {},
   "source": [
    "### Step 5 - Execute the Graph\n",
    "\n",
    "On execution, the graph will be split into smaller subgraphs which will be distributed to the participating compute nodes in the network. The requester can also track the progress of the graph. Please note that the participants parameter must be set to a number less than the maximum number of allowable providers from the previous cell."
   ]
  },
  {
   "cell_type": "code",
   "execution_count": 7,
   "id": "71a9af68",
   "metadata": {},
   "outputs": [
    {
     "name": "stderr",
     "output_type": "stream",
     "text": [
      "2023-03-22 13:21:51,948 [MainThread  ] [DEBUG]  Graph Execute Initiated\n"
     ]
    },
    {
     "name": "stdout",
     "output_type": "stream",
     "text": [
      "Progress |████████████████████████████████████████| 100/100 [100%] in 5:46.1 (0.29/s) \n",
      "\n",
      "Graph Computed Successfully!\n"
     ]
    }
   ],
   "source": [
    "R.execute(participants=1)\n",
    "R.track_progress()"
   ]
  },
  {
   "cell_type": "markdown",
   "id": "c69b6d0e",
   "metadata": {},
   "source": [
    "### Step 6 - Fetching Results\n",
    "\n",
    "The Requester can now fetch the computed results of the Ops that they had previously set to persist.\n"
   ]
  },
  {
   "cell_type": "code",
   "execution_count": 7,
   "id": "785de259",
   "metadata": {},
   "outputs": [
    {
     "name": "stdout",
     "output_type": "stream",
     "text": [
      "[5, 7, 9]\n"
     ]
    }
   ],
   "source": [
    "output = R.fetch_persisting_op(op_name=\"c_output\")\n",
    "print(output)"
   ]
  },
  {
   "cell_type": "markdown",
   "id": "73c09f2f",
   "metadata": {},
   "source": [
    "## Distributed Deep Learning\n",
    "\n",
    "RavDL is Raven Protocol's Distributed Deep Learning tool that allows requesters to easily build, train and test their neural networks by leveraging the compute power of participating nodes across the globe. More on this library can be found [here](https://github.com/ravenprotocol/ravdl). The repository also has sample deep learning model scripts for reference."
   ]
  },
  {
   "cell_type": "markdown",
   "id": "17d6bb93",
   "metadata": {},
   "source": [
    "## Federated Analytics\n",
    "\n",
    "Federated analytics is a new approach to data analysis in which key statistics like mean, variance, and standard deviation can be calculated across various private datasets without compromising privacy. It operates similarly to federated learning in that it runs local calculations over each client device’s data and only makes the aggregated findings — never any data from a specific device — available to requesters. Sensitive data like medical records, financial transactions, employee data, and others can be analyzed without leaving the premise.\n",
    "\n",
    "The Ravop library now supports the creation of federated operations which requesters can leverage to conduct analysis without directly observing a client’s private data."
   ]
  },
  {
   "cell_type": "markdown",
   "id": "cd345c5e",
   "metadata": {},
   "source": [
    "### Step 1 - Defining a Graph\n",
    "\n",
    "Create a federated analytics graph by providing its name, approach, and rules to which clients must adhere.\n",
    "\n",
    "- ```name```: The name for the graph set by the requester. Preferably a meaningful name that allows clients to identify the type of dataset desired by the requester.\n",
    "- ```approach```: Set to ‘federated’.\n",
    "- ```rules```: The rules dictionary must contain the names of all the columns of data required by the requester for aggregation and their corresponding constraints as shown above. The clients will then be able to filter their data accordingly. Note: An empty dictionary for a column signifies no constraints. All values in that column shall be considered.\n",
    "- ```max_clients```: The number of clients whose data must be aggregated and returned to the requester.\n",
    "\n",
    "***Note:*** In the current release, the requester can execute only 1 graph with their unique token. Therefore, to clear any previous/existing graphs, the requester must use R.flush() method."
   ]
  },
  {
   "cell_type": "code",
   "execution_count": 10,
   "id": "0d09ca27",
   "metadata": {},
   "outputs": [
    {
     "name": "stderr",
     "output_type": "stream",
     "text": [
      "2022-06-27 23:56:15,913 [MainThread  ] [DEBUG]  \n",
      "2022-06-27 23:56:15,914 [MainThread  ] [DEBUG]  {'message': 'Developer flushed'}\n"
     ]
    },
    {
     "data": {
      "text/plain": [
       "<ravop.core.Graph at 0x11bfbc670>"
      ]
     },
     "execution_count": 10,
     "metadata": {},
     "output_type": "execute_result"
    }
   ],
   "source": [
    "import json\n",
    "\n",
    "R.flush()\n",
    "R.Graph(name=\"Office Data\", approach=\"federated\",\n",
    "                rules=json.dumps({\"rules\": {\"age\": {\"min\": 18, \"max\": 80},\n",
    "                                            \"salary\": {\"min\": 1, \"max\": 5},\n",
    "                                            \"bonus\": {\"min\": 0, \"max\": 10},\n",
    "                                            \"fund\": {}\n",
    "                                            },\n",
    "                                  \"max_clients\": 1}))"
   ]
  },
  {
   "cell_type": "markdown",
   "id": "fba472db",
   "metadata": {},
   "source": [
    "The results will be ready once ```max_clients``` number of clients have participated."
   ]
  },
  {
   "cell_type": "markdown",
   "id": "a85c2c6f",
   "metadata": {},
   "source": [
    "### Step 2 - Creation of Federated Ops\n",
    "\n",
    "The following code snippet creates and adds ops to the previously declared graph."
   ]
  },
  {
   "cell_type": "code",
   "execution_count": 11,
   "id": "339dfc24",
   "metadata": {},
   "outputs": [],
   "source": [
    "mean = R.federated_mean()\n",
    "variance = R.federated_variance()\n",
    "standard_deviation = R.federated_standard_deviation()"
   ]
  },
  {
   "cell_type": "markdown",
   "id": "30c9c023",
   "metadata": {},
   "source": [
    "### Step 3 - Making Ops Persist\n",
    "\n",
    "Ops that have been set to persist can later be retrieved after execution of graph is complete.\n",
    "\n",
    "***Note:*** Make sure that the ```name``` parameter for each persisting Op is unique within a graph so that later it can be retrieved."
   ]
  },
  {
   "cell_type": "code",
   "execution_count": 12,
   "id": "22c1d717",
   "metadata": {},
   "outputs": [
    {
     "name": "stderr",
     "output_type": "stream",
     "text": [
      "2022-06-27 23:56:33,789 [MainThread  ] [DEBUG]  \n",
      "2022-06-27 23:56:33,790 [MainThread  ] [DEBUG]  {'message': 'Op persist: mean'}\n",
      "2022-06-27 23:56:33,801 [MainThread  ] [DEBUG]  \n",
      "2022-06-27 23:56:33,802 [MainThread  ] [DEBUG]  {'message': 'Op persist: variance'}\n",
      "2022-06-27 23:56:33,813 [MainThread  ] [DEBUG]  \n",
      "2022-06-27 23:56:33,814 [MainThread  ] [DEBUG]  {'message': 'Op persist: standard_deviation'}\n"
     ]
    },
    {
     "data": {
      "text/plain": [
       "'Op persist: standard_deviation'"
      ]
     },
     "execution_count": 12,
     "metadata": {},
     "output_type": "execute_result"
    }
   ],
   "source": [
    "mean.persist_op(name=\"mean\")\n",
    "variance.persist_op(name=\"variance\")\n",
    "standard_deviation.persist_op(name=\"standard_deviation\")"
   ]
  },
  {
   "cell_type": "markdown",
   "id": "a7668f8b",
   "metadata": {},
   "source": [
    "### Step 4 - Activate the Graph\n",
    "\n",
    "Once all Ops of the graph have been defined, the requester must activate their graph. This step completes the compilation procedure and makes the graph ready for execution. No more Ops can be added to the graph after this."
   ]
  },
  {
   "cell_type": "code",
   "execution_count": 13,
   "id": "1797516b",
   "metadata": {},
   "outputs": [
    {
     "name": "stderr",
     "output_type": "stream",
     "text": [
      "2022-06-27 23:56:37,025 [MainThread  ] [DEBUG]  \n",
      "\n",
      "2022-06-27 23:56:37,026 [MainThread  ] [DEBUG]  Graph Compiled Successfully. Ready to Execute!\n"
     ]
    },
    {
     "data": {
      "text/plain": [
       "'Graph Compiled Successfully. Ready to Execute!'"
      ]
     },
     "execution_count": 13,
     "metadata": {},
     "output_type": "execute_result"
    }
   ],
   "source": [
    "R.activate()"
   ]
  },
  {
   "cell_type": "markdown",
   "id": "d8c9c93a",
   "metadata": {},
   "source": [
    "### Step 5 - Execute the Graph\n",
    "\n",
    "On execution, the compute nodes will be allowed to participate if they possess the relevant data on their systems. The requester can also track the progress of the graph."
   ]
  },
  {
   "cell_type": "code",
   "execution_count": 14,
   "id": "c79269d0",
   "metadata": {},
   "outputs": [
    {
     "name": "stderr",
     "output_type": "stream",
     "text": [
      "2022-06-27 23:56:42,478 [MainThread  ] [DEBUG]  Graph Execute Initiated\n",
      "2022-06-27 23:56:42,479 [MainThread  ] [DEBUG]  \n"
     ]
    },
    {
     "name": "stdout",
     "output_type": "stream",
     "text": [
      "Progress |████████████████████████████████████████| 100/100 [100%] in 59.2s (1.69/s) \n"
     ]
    },
    {
     "name": "stderr",
     "output_type": "stream",
     "text": [
      "2022-06-27 23:57:41,721 [MainThread  ] [DEBUG]  \n",
      "Graph Computed Successfully!\n"
     ]
    }
   ],
   "source": [
    "R.execute()\n",
    "R.track_progress()"
   ]
  },
  {
   "cell_type": "markdown",
   "id": "7f0b3ab0",
   "metadata": {},
   "source": [
    "### Step 6 - Fetching Results\n",
    "\n",
    "The Requester can now fetch the computed results of the Ops that they had previously set to persist.\n"
   ]
  },
  {
   "cell_type": "code",
   "execution_count": 15,
   "id": "e2cf6810",
   "metadata": {},
   "outputs": [
    {
     "name": "stdout",
     "output_type": "stream",
     "text": [
      "mean:  [{'age': 53.0}, {'bonus': 1.4444444444444444}, {'fund': 0.23333333333333334}, {'salary': 3.3333333333333326}]\n",
      "variance:  [{'age': 96.0}, {'bonus': 0.011358024691358024}, {'fund': 0.004444444444444445}, {'salary': 0.08888888888888889}]\n",
      "standard_deviation:  [{'age': 9.797958971132712}, {'bonus': 0.10657403385139376}, {'fund': 0.06666666666666668}, {'salary': 0.29814239699997197}]\n"
     ]
    }
   ],
   "source": [
    "mean_output = R.fetch_persisting_op(op_name=\"mean\")\n",
    "print(\"mean: \", mean_output)\n",
    "\n",
    "variance_output = R.fetch_persisting_op(op_name=\"variance\")\n",
    "print(\"variance: \", variance_output)\n",
    "\n",
    "standard_deviation_output = R.fetch_persisting_op(op_name=\"standard_deviation\")\n",
    "print(\"standard_deviation: \", standard_deviation_output)"
   ]
  },
  {
   "cell_type": "code",
   "execution_count": null,
   "id": "d8cd8b15",
   "metadata": {},
   "outputs": [],
   "source": []
  }
 ],
 "metadata": {
  "kernelspec": {
   "display_name": "Python 3 (ipykernel)",
   "language": "python",
   "name": "python3"
  },
  "language_info": {
   "codemirror_mode": {
    "name": "ipython",
    "version": 3
   },
   "file_extension": ".py",
   "mimetype": "text/x-python",
   "name": "python",
   "nbconvert_exporter": "python",
   "pygments_lexer": "ipython3",
   "version": "3.8.13"
  }
 },
 "nbformat": 4,
 "nbformat_minor": 5
}
